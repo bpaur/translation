{
 "cells": [
  {
   "cell_type": "markdown",
   "id": "2263046a",
   "metadata": {},
   "source": [
    "# So you want to automate translation? Let's do it using Python! \n",
    "\n",
    "## Purpose \n",
    "This notebook exists to automate translation of languages found in data sets that would otherwise require manual copy and pasting into a translation engine (such as Google Translate). \n",
    "\n",
    "We want to automate the table below. Doing this manually isn't daunting when it is only four rows, but it become burdensome when it becomes hundreds or thousands or rows. \n",
    "<table>\n",
    "  <tr>\n",
    "    <th>Original Text</th>\n",
    "    <th>Translated Text</th>\n",
    "  </tr>\n",
    "  <tr>\n",
    "    <td>Bonjour</td>\n",
    "    <td>Hello</td>\n",
    "  </tr>\n",
    "  <tr>\n",
    "    <td>Au revoir</td>\n",
    "    <td>Goodbye</td>\n",
    "  </tr>\n",
    "  <tr>\n",
    "    <td>Merci</td>\n",
    "    <td>Thank you</td>\n",
    "  </tr>\n",
    "</table>\n",
    "\n",
    "\n",
    "\n",
    "## Outline of this Jupyter Notebook \n",
    "1. Install and import packages\n",
    "1. Connect to data source \n",
    "1. Selection of columns to translate using a list \n",
    "1. Select input and output language to use (if not specified, will use auto-detection and translate to English)\n",
    "1. Run translation and wait! \n",
    "1. Export new dataset \n",
    "\n",
    "\n",
    "\n",
    "## Any location that has the following <span style=\"color: red;\">ACTION REQUIRED</span>, immediately afterwards you need to edit or make a change for the script to run. \n",
    "\n",
    "## Any location that has the following <span style=\"color: blue;\">ACTION OPTIONAL</span>, immediately afterwards you can make an optional edit or make a change to customize the script. \n"
   ]
  },
  {
   "cell_type": "markdown",
   "id": "2124d998",
   "metadata": {},
   "source": [
    "## 1. Install and Import Packages"
   ]
  },
  {
   "cell_type": "code",
   "execution_count": null,
   "id": "2646e370",
   "metadata": {},
   "outputs": [],
   "source": [
    "# This block of code creates a function (most everything that follows \"def\" is that function) \n",
    "# This function checks to see if the primary translation package, googletrans, is installed, if it isn't, it will be installed. \n",
    "\n",
    "# Using Anaconda ensures many standard packages are already installed (such as importlib and pandas among many others)\n",
    "#Becuase of the comment immediately above, this is why you do not have to run this function for most of the pakcages you use \n",
    "import importlib\n",
    "\n",
    "def install_package(package_name):\n",
    "    try:\n",
    "        importlib.import_module(package_name)\n",
    "        print(f\"{package_name} is already installed.\")\n",
    "    except ImportError:\n",
    "        print(f\"{package_name} is not installed. Installing now...\")\n",
    "        try:\n",
    "            import pip\n",
    "            pip.main(['install', package_name])  # For pip versions < 10.0.0\n",
    "        except AttributeError:\n",
    "            import subprocess\n",
    "            subprocess.check_call(['pip', 'install', package_name])  # For pip versions >= 10.0.0\n",
    "        print(f\"{package_name} has been installed.\")\n",
    "\n",
    "#This runs the \"install_package\" function to see if \"googletrans\" package is installed. \n",
    "install_package(\"googletrans\")"
   ]
  },
  {
   "cell_type": "code",
   "execution_count": null,
   "id": "1e9700e4",
   "metadata": {},
   "outputs": [],
   "source": [
    "import pandas as pd \n",
    "from googletrans import Translator, constants, LANGUAGES\n",
    "translator = Translator()"
   ]
  },
  {
   "cell_type": "markdown",
   "id": "e418f836",
   "metadata": {},
   "source": [
    "## 2. Connect to Data Source"
   ]
  },
  {
   "cell_type": "markdown",
   "id": "32960136",
   "metadata": {},
   "source": [
    "## <span style=\"color: red;\">ACTION REQUIRED</span>"
   ]
  },
  {
   "cell_type": "code",
   "execution_count": null,
   "id": "f9b2483a",
   "metadata": {},
   "outputs": [],
   "source": [
    "#df is the dataframe, or the data we are using \n",
    "#you must change the file path so it goes to the data you want to translate\n",
    "df=pd.read_excel(r\"C:\\Users\\path\\to\\the\\data.xlsx\")"
   ]
  },
  {
   "cell_type": "markdown",
   "id": "89cc9341",
   "metadata": {},
   "source": [
    "## 3. Columns to Translate \n",
    "- If you need to translate all the columns: \n",
    "    - have the code block immediately below be `cols_to_translate=list(df)`"
   ]
  },
  {
   "cell_type": "markdown",
   "id": "f2ab9185",
   "metadata": {},
   "source": [
    "## <span style=\"color: red;\">ACTION REQUIRED</span>"
   ]
  },
  {
   "cell_type": "code",
   "execution_count": null,
   "id": "9d3c2760",
   "metadata": {},
   "outputs": [],
   "source": [
    "#After adding columns you would like, you can run this cell\n",
    "cols_to_translate=list(df)"
   ]
  },
  {
   "cell_type": "markdown",
   "id": "c46bb5b7",
   "metadata": {},
   "source": [
    "### Prepare/Clean the Data for Translation"
   ]
  },
  {
   "cell_type": "code",
   "execution_count": null,
   "id": "055be2a0",
   "metadata": {},
   "outputs": [],
   "source": [
    "#This takes all of the columns listed above in cols_to_translate and makes sure to keep them in their orignal state \n",
    "#We do this to retain the oringal text, hence 'ORIG_TXT' in the dataset\n",
    "prefix = 'ORIG_TXT'\n",
    "\n",
    "for col in cols_to_translate:\n",
    "    new_col_name = prefix + col\n",
    "    df[new_col_name] = df[col].copy()\n",
    "\n",
    "    \n",
    "# This now goes through and gets the unique entries in those columns to reduce the burden of translation\n",
    "\n",
    "#first create a dataframe that takes only the columns we are concerned with\n",
    "selected_cols2 = df.filter(cols_to_translate, axis=1)\n",
    "# create a set to store unique entries\n",
    "unique_entries = set(selected_cols2.values.ravel())\n",
    "unique_entries = {x for x in unique_entries if pd.notna(x)}\n",
    "# create a dictionary to store translations\n",
    "translations = {}"
   ]
  },
  {
   "cell_type": "markdown",
   "id": "44743036",
   "metadata": {},
   "source": [
    "## 4. Select Languages for translation \n",
    "\n",
    "The next code block's output, shows all of the languages available for translation. If you leave `source_lang` blank, it will try to use auto-detection to determine the language. \n",
    "\n",
    "When selecting which languages to use, ensure to use the two letter code. For example, if you want to translate from Croation: <br>\n",
    "`source_lang=\"co\"` <span style=\"color: darkgreen;\">will work</span> <br>\n",
    "~~`source_lang=\"Croation\"`~~ <span style=\"color: darkred;\">will not work</span> <br>\n",
    "\n",
    "If you want to auto-detect the language do the following: <br>\n",
    "\n",
    "`source_lang=\"\"` <br>\n",
    "\n",
    "\n",
    "To change the target language (i.e. the language that will be outputted) change the two letter code next to `target_lang`\n"
   ]
  },
  {
   "cell_type": "code",
   "execution_count": null,
   "id": "a3e20fca",
   "metadata": {},
   "outputs": [],
   "source": [
    "# Print all supported languages\n",
    "for code, language in LANGUAGES.items():\n",
    "    print(f\"{code}: {language}\")"
   ]
  },
  {
   "cell_type": "markdown",
   "id": "005d753b",
   "metadata": {},
   "source": [
    "##  <span style=\"color: blue;\">ACTION OPTIONAL</span>"
   ]
  },
  {
   "cell_type": "code",
   "execution_count": null,
   "id": "e1d4c6dd",
   "metadata": {},
   "outputs": [],
   "source": [
    "source_lang=\"\"\n",
    "target_lang='en'"
   ]
  },
  {
   "cell_type": "markdown",
   "id": "cf586deb",
   "metadata": {},
   "source": [
    "## 5. Run Translation and wait\n",
    "\n",
    "The next code block does the actual translating. It may take some time to translate. Even minutes. Just give it time. "
   ]
  },
  {
   "cell_type": "code",
   "execution_count": null,
   "id": "4bbb6f5f",
   "metadata": {
    "scrolled": true
   },
   "outputs": [],
   "source": [
    "#DO NOT EDIT CODE IN THIS BLOCK UNLESS YOU ARE CERTAIN THERE IS AN ERROR YOU CAN CORRECT\n",
    "# loop over the unique entries and translate them\n",
    "for entry in unique_entries:\n",
    "    try:\n",
    "             \n",
    "        # check if entry is already in translations dictionary\n",
    "        if entry in translations:\n",
    "            continue\n",
    "\n",
    "        # translate the entry\n",
    "        if source_lang==\"\":\n",
    "            translated_entry = translator.translate(entry, dest=target_lang).text\n",
    "        else:\n",
    "            translated_entry = translator.translate(entry, src=source_lang, dest=target_lang).text\n",
    "        \n",
    "        # add the entry and its translation to the dictionary\n",
    "        translations[entry] = translated_entry\n",
    "    except Exception as e:\n",
    "        if \"ReadTimeout\" in str(e):\n",
    "            continue  # Continue to the next iteration of the loop"
   ]
  },
  {
   "cell_type": "code",
   "execution_count": null,
   "id": "55225ad9",
   "metadata": {
    "scrolled": true
   },
   "outputs": [],
   "source": [
    "# prints the translations dictionary\n",
    "print(translations)"
   ]
  },
  {
   "cell_type": "code",
   "execution_count": null,
   "id": "af27194f",
   "metadata": {
    "scrolled": true
   },
   "outputs": [],
   "source": [
    "# replaces the original entries with their translations in the dataframe\n",
    "selected_cols2.replace(translations, inplace=True)\n",
    "#Neat method to take columns that have the same name from selected_cols2 and put them into the orignal dataframe with the translated comments\n",
    "df.update(selected_cols2)"
   ]
  },
  {
   "cell_type": "code",
   "execution_count": null,
   "id": "413e37ad",
   "metadata": {
    "scrolled": true
   },
   "outputs": [],
   "source": [
    "#displays only the translated columns\n",
    "df[cols_to_translate]"
   ]
  },
  {
   "cell_type": "markdown",
   "id": "08a6109b",
   "metadata": {},
   "source": [
    "## 6. Export Translated Data\n",
    "Unless otherwise specified in the `df.to_excel(....`, the data will be exported to the folder from the output of the code cell `pwd`"
   ]
  },
  {
   "cell_type": "code",
   "execution_count": null,
   "id": "936c5651",
   "metadata": {},
   "outputs": [],
   "source": [
    "#this stands for print working directory \n",
    "pwd"
   ]
  },
  {
   "cell_type": "markdown",
   "id": "81d55d0a",
   "metadata": {},
   "source": [
    " ## <span style=\"color: blue;\">ACTION OPTIONAL</span>"
   ]
  },
  {
   "cell_type": "code",
   "execution_count": null,
   "id": "a93487f4",
   "metadata": {
    "scrolled": true
   },
   "outputs": [],
   "source": [
    "# Feel free to change the thing below to a name you prefer\n",
    "name='Data'\n",
    "\n",
    "#export to Excel\n",
    "df.to_excel(name+'_translated.xlsx')"
   ]
  }
 ],
 "metadata": {
  "celltoolbar": "Tags",
  "kernelspec": {
   "display_name": "Python 3 (ipykernel)",
   "language": "python",
   "name": "python3"
  },
  "language_info": {
   "codemirror_mode": {
    "name": "ipython",
    "version": 3
   },
   "file_extension": ".py",
   "mimetype": "text/x-python",
   "name": "python",
   "nbconvert_exporter": "python",
   "pygments_lexer": "ipython3",
   "version": "3.9.15"
  }
 },
 "nbformat": 4,
 "nbformat_minor": 5
}
